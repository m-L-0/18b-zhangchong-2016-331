{
 "cells": [
  {
   "cell_type": "code",
   "execution_count": 2,
   "metadata": {},
   "outputs": [],
   "source": [
    "import matplotlib.pyplot as plt\n",
    "import numpy as np\n",
    "from scipy.io import loadmat\n",
    "import spectral\n",
    "import pandas as pd\n",
    "from pandas import Series,DataFrame\n",
    "import pandas as pd\n",
    "import scipy\n",
    "from scipy import io\n",
    "import os\n",
    "import csv\n",
    "from sklearn.svm import SVC\n",
    "from sklearn import metrics\n",
    "from sklearn import preprocessing\n",
    "from sklearn.model_selection import train_test_split"
   ]
  },
  {
   "cell_type": "code",
   "execution_count": 68,
   "metadata": {},
   "outputs": [],
   "source": [
    "#第一步数据处理，合并，格式转化。\n",
    "##1.Data batch processing\n",
    "file_dir = r'/jupyternotebook/train_nine/'#创建三个列表，分别存储目标目录，mat格式中数据名，输出目录\n",
    "pathlist = []\n",
    "namelist = []\n",
    "resultlist = []\n",
    "for root,dirs,files in os.walk(file_dir):#批量提取文件路径\n",
    "    for file in files:\n",
    "        if os.path.splitext(file)[1] == '.mat':\n",
    "            pathlist.append(os.path.join(root,file))\n",
    "            namelist.append(os.path.splitext(file)[0])\n",
    "        if  os.path.splitext(file)[1] == '.csv':\n",
    "            resultlist.append(os.path.join(root,file))\n",
    "for i in range(0, 9):#将mat格式转化为csv且加上lable\n",
    "    a = pathlist[i]\n",
    "    b = namelist[i]\n",
    "    features_struct = scipy.io.loadmat(a)\n",
    "    features = features_struct[b]\n",
    "    dfdata = pd.DataFrame(features)\n",
    "    c = [10,11,12,14,2,3,5,6,8]\n",
    "    dfdata['200']= c[i]\n",
    "    datapath1 = resultlist[i]\n",
    "    dfdata.to_csv(datapath1, index=False)\n",
    "d = pathlist[9]\n",
    "test = scipy.io.loadmat(d)\n",
    "ts = test[namelist[9]]\n",
    "tsf = pd.DataFrame(ts)\n",
    "tspath = resultlist[9]\n",
    "tsf.to_csv(tspath,index=False)\n",
    "for i in range(0,len(pathlist)-1):#合并各类数据\n",
    "    df = pd.read_csv(resultlist[i])\n",
    "    df.to_csv(file_dir+'/'+ 'allset.csv',encoding=\"utf_8_sig\",index=False,  mode='a+')\n",
    "##Data first split\n",
    "allset = pd.read_csv('/jupyternotebook/train_nine/allset.csv')#分割成train__data,和train_label\n",
    "train_label = allset['200']\n",
    "train_data = allset.drop(['200'],axis=1)\n",
    "train_data.to_csv(file_dir+'/'+ 'train_data.csv',header=False)\n",
    "train_label.to_csv(file_dir+'/'+ 'train_label.csv',header=False)\n",
    "\n",
    "\n"
   ]
  },
  {
   "cell_type": "code",
   "execution_count": 69,
   "metadata": {},
   "outputs": [
    {
     "name": "stdout",
     "output_type": "stream",
     "text": [
      "90.4326923076923\n"
     ]
    }
   ],
   "source": [
    "from sklearn import  preprocessing#数据中心化\n",
    "train_data = preprocessing.scale(train_data)\n",
    "data_train, data_test, label_train, label_test = train_test_split(train_data,train_label,test_size=0.3)#切割测试集训练集\n",
    "##构建模型 训练\n",
    "clf = SVC(kernel='rbf',C=5)\n",
    "clf.fit(data_train,label_train)\n",
    "pred = clf.predict(data_test)\n",
    "accuracy = metrics.accuracy_score(label_test, pred)*100\n",
    "print (accuracy)\n",
    "\n",
    "\n"
   ]
  },
  {
   "cell_type": "code",
   "execution_count": 81,
   "metadata": {},
   "outputs": [
    {
     "name": "stdout",
     "output_type": "stream",
     "text": [
      "[ 6 14  3 ... 14  3  6]\n"
     ]
    }
   ],
   "source": [
    "ts = preprocessing.scale(ts)#运行测试机集\n",
    "final_pred = clf.predict(ts)\n",
    "print(final_pred)\n",
    "fpd = pd.DataFrame(final_pred)\n",
    "fpd.to_csv('/jupyternotebook/train_nine/jieguo.csv')\n"
   ]
  },
  {
   "cell_type": "code",
   "execution_count": 79,
   "metadata": {},
   "outputs": [
    {
     "data": {
      "text/plain": [
       "array([[3158, 4122, 4145, ..., 1022, 1019, 1010],\n",
       "       [3023, 3737, 4027, ..., 1019, 1008, 1004],\n",
       "       [2743, 4388, 4591, ..., 1056, 1030, 1025],\n",
       "       ...,\n",
       "       [2561, 3881, 4051, ..., 1018,  998, 1015],\n",
       "       [2745, 4391, 4335, ..., 1046, 1029, 1019],\n",
       "       [3009, 3986, 3967, ..., 1011, 1009, 1000]], dtype=uint16)"
      ]
     },
     "execution_count": 79,
     "metadata": {},
     "output_type": "execute_result"
    }
   ],
   "source": []
  }
 ],
 "metadata": {
  "kernelspec": {
   "display_name": "Python 3",
   "language": "python",
   "name": "python3"
  },
  "language_info": {
   "codemirror_mode": {
    "name": "ipython",
    "version": 3
   },
   "file_extension": ".py",
   "mimetype": "text/x-python",
   "name": "python",
   "nbconvert_exporter": "python",
   "pygments_lexer": "ipython3",
   "version": "3.7.0"
  }
 },
 "nbformat": 4,
 "nbformat_minor": 2
}

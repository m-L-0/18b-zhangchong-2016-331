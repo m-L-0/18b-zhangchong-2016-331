{
 "cells": [
  {
   "cell_type": "code",
   "execution_count": 47,
   "metadata": {
    "scrolled": true
   },
   "outputs": [
    {
     "name": "stdout",
     "output_type": "stream",
     "text": [
      "Test 0 Prediction: 0 True Class: 0\n",
      "Test 1 Prediction: 1 True Class: 1\n",
      "Test 2 Prediction: 1 True Class: 1\n",
      "Test 3 Prediction: 2 True Class: 2\n",
      "Test 4 Prediction: 1 True Class: 1\n",
      "Test 5 Prediction: 1 True Class: 1\n",
      "Test 6 Prediction: 0 True Class: 0\n",
      "Test 7 Prediction: 1 True Class: 1\n",
      "Test 8 Prediction: 2 True Class: 1\n",
      "Test 9 Prediction: 0 True Class: 0\n",
      "Test 10 Prediction: 1 True Class: 1\n",
      "Test 11 Prediction: 2 True Class: 2\n",
      "Test 12 Prediction: 2 True Class: 2\n",
      "Test 13 Prediction: 2 True Class: 2\n",
      "Test 14 Prediction: 1 True Class: 1\n",
      "Test 15 Prediction: 2 True Class: 2\n",
      "Test 16 Prediction: 1 True Class: 1\n",
      "Test 17 Prediction: 2 True Class: 2\n",
      "Test 18 Prediction: 2 True Class: 2\n",
      "Test 19 Prediction: 0 True Class: 0\n",
      "Test 20 Prediction: 2 True Class: 2\n",
      "Test 21 Prediction: 0 True Class: 0\n",
      "Test 22 Prediction: 2 True Class: 2\n",
      "Test 23 Prediction: 1 True Class: 1\n",
      "Test 24 Prediction: 1 True Class: 1\n",
      "Test 25 Prediction: 0 True Class: 0\n",
      "Test 26 Prediction: 0 True Class: 0\n",
      "Test 27 Prediction: 2 True Class: 2\n",
      "Test 28 Prediction: 2 True Class: 2\n",
      "Test 29 Prediction: 2 True Class: 2\n",
      "Done!\n",
      "Accuracy: 0.9666666666666666\n"
     ]
    }
   ],
   "source": [
    "import numpy as np\n",
    "import tensorflow as tf\n",
    "from sklearn.datasets import load_iris\n",
    "iris = load_iris()\n",
    "from sklearn.model_selection import train_test_split\n",
    "# 开始设计模型\n",
    "#分割数据集\n",
    "x_train, x_test, y_train, y_test = train_test_split(\n",
    " iris.data, iris.target, test_size=0.2)\n",
    "# 输入占位符\n",
    "xtr = tf.placeholder(\"float\", [None, 4])\n",
    "xte = tf.placeholder(\"float\", [4])\n",
    "# 计算L1距离\n",
    "distance = tf.reduce_sum(tf.abs(tf.add(xtr, tf.negative(xte))), reduction_indices=1)\n",
    "# 获取最小距离的索引\n",
    "pred = tf.arg_min(distance, 0)\n",
    "\n",
    "#分类精确度\n",
    "accuracy = 0.\n",
    "\n",
    "# 初始化变量\n",
    "init = tf.global_variables_initializer()\n",
    "\n",
    "# 运行会话，训练模型\n",
    "with tf.Session() as sess:\n",
    "\n",
    "    # 运行初始化\n",
    "    sess.run(init)\n",
    "\n",
    "    # 遍历测试数据\n",
    "    for i in range(len(x_test)):\n",
    "        # 获取当前样本的最近邻索引\n",
    "        nn_index = sess.run(pred, feed_dict={xtr:x_train, xte:x_test[i,:]})   #向占位符传入训练数据\n",
    "        # 最近邻分类标签与真实标签比较\n",
    "        print(\"Test\", i, \"Prediction:\", (y_train[nn_index]), \\\n",
    "        # 计算精确度 验证模型\n",
    "        if y_train[nn_index] == y_test[i]:\n",
    "            accuracy += 1./len(x_test)\n",
    "\n",
    "    print(\"Done!\")\n",
    "    print(\"Accuracy:\", accuracy)"
   ]
  },
  {
   "cell_type": "code",
   "execution_count": 52,
   "metadata": {},
   "outputs": [
    {
     "data": {
      "text/plain": [
       "(120, 4)"
      ]
     },
     "execution_count": 52,
     "metadata": {},
     "output_type": "execute_result"
    }
   ],
   "source": [
    "iris.data.shape\n",
    "x_train.shape"
   ]
  },
  {
   "cell_type": "code",
   "execution_count": null,
   "metadata": {},
   "outputs": [],
   "source": [
    "\n"
   ]
  }
 ],
 "metadata": {
  "kernelspec": {
   "display_name": "Python(python35)",
   "language": "python",
   "name": "python35"
  },
  "language_info": {
   "codemirror_mode": {
    "name": "ipython",
    "version": 3
   },
   "file_extension": ".py",
   "mimetype": "text/x-python",
   "name": "python",
   "nbconvert_exporter": "python",
   "pygments_lexer": "ipython3",
   "version": "3.5.4"
  }
 },
 "nbformat": 4,
 "nbformat_minor": 2
}

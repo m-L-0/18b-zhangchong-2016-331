{
 "cells": [
  {
   "cell_type": "code",
   "execution_count": 2,
   "metadata": {},
   "outputs": [
    {
     "name": "stdout",
     "output_type": "stream",
     "text": [
      "[0.16390553]\n"
     ]
    }
   ],
   "source": [
    "import tensorflow as tf\n",
    "\n",
    "X=tf.placeholder(tf.float32)\n",
    "\n",
    "with tf.variable_scope('abc',reuse=tf.AUTO_REUSE) as scope:\n",
    "    a=tf.get_variable('a',initializer=tf.random_normal_initializer(mean=0.0, stddev=1.0, seed=None, dtype=tf.float32),shape=[1],dtype=tf.float32)\n",
    "    b=tf.get_variable('b',initializer=tf.random_normal_initializer(mean=0.0, stddev=1.0, seed=None, dtype=tf.float32),shape=[1],dtype=tf.float32)\n",
    "    yp=tf.nn.sigmoid(tf.add(tf.multiply(X,tf.get_variable('a')),tf.get_variable('b')))\n",
    "with tf.Session() as sess:\n",
    "    sess.run(tf.global_variables_initializer())\n",
    "    print(sess.run(yp,feed_dict={X:1.5}))#相同点为name提交前缀 不同点能否为tf.get_variable添加\n",
    "\n"
   ]
  },
  {
   "cell_type": "code",
   "execution_count": null,
   "metadata": {},
   "outputs": [],
   "source": []
  }
 ],
 "metadata": {
  "kernelspec": {
   "display_name": "Python(python35)",
   "language": "python",
   "name": "python35"
  },
  "language_info": {
   "codemirror_mode": {
    "name": "ipython",
    "version": 3
   },
   "file_extension": ".py",
   "mimetype": "text/x-python",
   "name": "python",
   "nbconvert_exporter": "python",
   "pygments_lexer": "ipython3",
   "version": "3.5.4"
  }
 },
 "nbformat": 4,
 "nbformat_minor": 2
}
